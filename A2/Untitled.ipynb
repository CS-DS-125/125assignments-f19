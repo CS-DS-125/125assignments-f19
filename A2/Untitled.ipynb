{
 "cells": [
  {
   "cell_type": "code",
   "execution_count": 53,
   "metadata": {},
   "outputs": [
    {
     "name": "stdout",
     "output_type": "stream",
     "text": [
      "You have 100 dollars.\n"
     ]
    },
    {
     "data": {
      "text/plain": [
       "6"
      ]
     },
     "execution_count": 53,
     "metadata": {},
     "output_type": "execute_result"
    }
   ],
   "source": [
    "import random\n",
    "\n",
    "#intialize money\n",
    "money = 100\n",
    "\n",
    "# give starting amount\n",
    "print('You have', money, \"dollars.\")\n",
    "\n",
    "# #ask for the amount of bet and check if valid\n",
    "    \n",
    "# while True:\n",
    "#     bet = int(input('How much do you want to bet?'))\n",
    "    \n",
    "#     if bet >0 and bet <= money:\n",
    "#         break\n",
    "\n",
    "#     print('Sorry that was an invalid bet. Please enter a valid amount.')\n",
    "    \n",
    "random.randint(0,10)\n",
    "    \n",
    "    \n",
    "    "
   ]
  }
 ],
 "metadata": {
  "kernelspec": {
   "display_name": "Python 3",
   "language": "python",
   "name": "python3"
  },
  "language_info": {
   "codemirror_mode": {
    "name": "ipython",
    "version": 3
   },
   "file_extension": ".py",
   "mimetype": "text/x-python",
   "name": "python",
   "nbconvert_exporter": "python",
   "pygments_lexer": "ipython3",
   "version": "3.6.8"
  }
 },
 "nbformat": 4,
 "nbformat_minor": 4
}
